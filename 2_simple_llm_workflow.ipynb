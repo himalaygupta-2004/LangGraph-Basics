{
 "cells": [
  {
   "cell_type": "code",
   "execution_count": 16,
   "id": "24cb7160",
   "metadata": {},
   "outputs": [],
   "source": [
    "from  langgraph.graph import StateGraph,START,END\n",
    "from langchain_google_genai import ChatGoogleGenerativeAI\n",
    "from typing import TypedDict\n",
    "from dotenv import load_dotenv"
   ]
  },
  {
   "cell_type": "code",
   "execution_count": 17,
   "id": "ef303f5d",
   "metadata": {},
   "outputs": [],
   "source": [
    "load_dotenv()\n",
    "import os"
   ]
  },
  {
   "cell_type": "code",
   "execution_count": 18,
   "id": "747daaff",
   "metadata": {},
   "outputs": [],
   "source": [
    "api_key = os.getenv(\"API_KEY\")"
   ]
  },
  {
   "cell_type": "code",
   "execution_count": 19,
   "id": "c4e5c0a0",
   "metadata": {},
   "outputs": [],
   "source": [
    "model = ChatGoogleGenerativeAI(model=\"gemini-2.0-flash\", google_api_key=api_key)\n"
   ]
  },
  {
   "cell_type": "code",
   "execution_count": 20,
   "id": "24784878",
   "metadata": {},
   "outputs": [],
   "source": [
    "# Create a state\n",
    "class LLMState(TypedDict):\n",
    "    question:str\n",
    "    answer:str"
   ]
  },
  {
   "cell_type": "code",
   "execution_count": 21,
   "id": "65dc8e49",
   "metadata": {},
   "outputs": [],
   "source": [
    "# LLm functioning\n",
    "def llm_qa(state: LLMState)-> LLMState:\n",
    "    # Extract the question from state\n",
    "    question = state['question']\n",
    "    # form a prompt\n",
    "    prompt = f\"Answer the following question {question}\"\n",
    "\n",
    "    # Ask that question\n",
    "    answer = model.invoke(prompt).content\n",
    "    # Update the answeer\n",
    "    state['answer'] = answer\n",
    "\n",
    "    return state"
   ]
  },
  {
   "cell_type": "code",
   "execution_count": 22,
   "id": "c1f2f3be",
   "metadata": {},
   "outputs": [],
   "source": [
    "# Create Graph\n",
    "graph = StateGraph(LLMState)\n",
    "\n",
    "# Add Nodes\n",
    "graph.add_node('llm_qa',llm_qa)\n",
    "\n",
    "# Add edges\n",
    "graph.add_edge(START,'llm_qa')\n",
    "graph.add_edge('llm_qa',END)\n",
    "\n",
    "workflow = graph.compile()"
   ]
  },
  {
   "cell_type": "code",
   "execution_count": 25,
   "id": "050697f7",
   "metadata": {},
   "outputs": [
    {
     "name": "stdout",
     "output_type": "stream",
     "text": [
      "{'question': 'how far is moon from earth', 'answer': \"The distance between the Earth and the Moon varies because the Moon's orbit is an ellipse, not a perfect circle.\\n\\n*   **Average distance:** 384,400 kilometers (238,900 miles)\\n*   **Closest point (perigee):** Around 363,104 kilometers (225,623 miles)\\n*   **Farthest point (apogee):** Around 405,696 kilometers (252,088 miles)\"}\n"
     ]
    }
   ],
   "source": [
    "# Execute \n",
    "inital_state = {'question':'how far is moon from earth'}\n",
    "final_state = workflow.invoke(inital_state)\n",
    "print(final_state)"
   ]
  },
  {
   "cell_type": "code",
   "execution_count": 26,
   "id": "53df663f",
   "metadata": {},
   "outputs": [
    {
     "data": {
      "text/plain": [
       "\"The distance between the Earth and the Moon isn't constant, as the Moon's orbit is elliptical.\\n\\n*   **Average distance:** 384,400 kilometers (238,900 miles)\\n\\n*   **Closest point (perigee):** Around 363,104 kilometers (225,623 miles)\\n\\n*   **Farthest point (apogee):** Around 405,696 kilometers (252,088 miles)\""
      ]
     },
     "execution_count": 26,
     "metadata": {},
     "output_type": "execute_result"
    }
   ],
   "source": [
    "model.invoke('how far is moon from earth').content"
   ]
  },
  {
   "cell_type": "code",
   "execution_count": null,
   "id": "537907cf",
   "metadata": {},
   "outputs": [],
   "source": []
  }
 ],
 "metadata": {
  "kernelspec": {
   "display_name": "langgraph-learning",
   "language": "python",
   "name": "python3"
  },
  "language_info": {
   "codemirror_mode": {
    "name": "ipython",
    "version": 3
   },
   "file_extension": ".py",
   "mimetype": "text/x-python",
   "name": "python",
   "nbconvert_exporter": "python",
   "pygments_lexer": "ipython3",
   "version": "3.12.10"
  }
 },
 "nbformat": 4,
 "nbformat_minor": 5
}
