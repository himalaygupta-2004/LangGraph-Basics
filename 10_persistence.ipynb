{
 "cells": [
  {
   "cell_type": "code",
   "execution_count": 3,
   "id": "b23c1632",
   "metadata": {},
   "outputs": [],
   "source": [
    "from langgraph.graph import StateGraph, START, END\n",
    "from typing import TypedDict\n",
    "from langchain_google_genai import ChatGoogleGenerativeAI\n",
    "from dotenv import load_dotenv\n",
    "from langgraph.checkpoint.memory import InMemorySaver\n",
    "load_dotenv()\n",
    "import os"
   ]
  },
  {
   "cell_type": "code",
   "execution_count": null,
   "id": "7d16fc5e",
   "metadata": {},
   "outputs": [],
   "source": [
    "# InMemorySaver is a checkPoint"
   ]
  },
  {
   "cell_type": "code",
   "execution_count": 4,
   "id": "4e1c92e1",
   "metadata": {},
   "outputs": [],
   "source": [
    "api_key = os.getenv(\"API_KEY\")\n",
    "llm = ChatGoogleGenerativeAI(model=\"gemini-2.0-flash\", google_api_key=api_key)"
   ]
  },
  {
   "cell_type": "code",
   "execution_count": 5,
   "id": "732a461b",
   "metadata": {},
   "outputs": [],
   "source": [
    "# State Definition \n",
    "class JokeState(TypedDict):\n",
    "\n",
    "    topic: str\n",
    "    joke: str\n",
    "    explanation: str"
   ]
  },
  {
   "cell_type": "code",
   "execution_count": 6,
   "id": "3e536877",
   "metadata": {},
   "outputs": [],
   "source": [
    "def generate_joke(state: JokeState):\n",
    "\n",
    "    prompt = f'generate a joke on the topic {state[\"topic\"]}'\n",
    "    response = llm.invoke(prompt).content\n",
    "\n",
    "    return {'joke': response}"
   ]
  },
  {
   "cell_type": "code",
   "execution_count": 7,
   "id": "30ce35dc",
   "metadata": {},
   "outputs": [],
   "source": [
    "def generate_explanation(state: JokeState):\n",
    "\n",
    "    prompt = f'write an explanation for the joke - {state[\"joke\"]}'\n",
    "    response = llm.invoke(prompt).content\n",
    "\n",
    "    return {'explanation': response}"
   ]
  },
  {
   "cell_type": "code",
   "execution_count": 8,
   "id": "375066f3",
   "metadata": {},
   "outputs": [],
   "source": [
    "graph = StateGraph(JokeState)\n",
    "\n",
    "graph.add_node('generate_joke', generate_joke)\n",
    "graph.add_node('generate_explanation', generate_explanation)\n",
    "\n",
    "graph.add_edge(START, 'generate_joke')\n",
    "graph.add_edge('generate_joke', 'generate_explanation')\n",
    "graph.add_edge('generate_explanation', END)\n",
    "\n",
    "\n",
    "# CheckPointer\n",
    "# We have Different checkPointers\n",
    "checkpointer = InMemorySaver()\n",
    "\n",
    "workflow = graph.compile(checkpointer=checkpointer)"
   ]
  },
  {
   "cell_type": "code",
   "execution_count": 9,
   "id": "38faf045",
   "metadata": {},
   "outputs": [
    {
     "data": {
      "text/plain": [
       "{'topic': 'pizza',\n",
       " 'joke': 'Why did the pizza maker quit his job?\\n\\nBecause he was tired of getting dough-minated!',\n",
       " 'explanation': 'The joke \"Why did the pizza maker quit his job? Because he was tired of getting dough-minated!\" is a pun that plays on the word \"dominated.\" Here\\'s the breakdown:\\n\\n* **Dough:** Refers to the pizza dough, a key ingredient in making pizza.\\n* **Dominated:**  A word meaning to be controlled or ruled over by someone or something else.\\n\\nThe joke uses \"dough-minated\" as a play on \"dominated.\" It suggests that the pizza maker felt controlled or overworked (dominated) by the pressure of working with dough and making pizzas, or perhaps by a demanding boss.  The humor comes from the unexpected connection between the mundane task of pizza making and the concept of being controlled.'}"
      ]
     },
     "execution_count": 9,
     "metadata": {},
     "output_type": "execute_result"
    }
   ],
   "source": [
    "config1 = {\"configurable\": {\"thread_id\": \"1\"}}\n",
    "workflow.invoke({'topic':'pizza'}, config=config1)"
   ]
  },
  {
   "cell_type": "code",
   "execution_count": 10,
   "id": "e3b8f9f2",
   "metadata": {},
   "outputs": [
    {
     "data": {
      "text/plain": [
       "StateSnapshot(values={'topic': 'pizza', 'joke': 'Why did the pizza maker quit his job?\\n\\nBecause he was tired of getting dough-minated!', 'explanation': 'The joke \"Why did the pizza maker quit his job? Because he was tired of getting dough-minated!\" is a pun that plays on the word \"dominated.\" Here\\'s the breakdown:\\n\\n* **Dough:** Refers to the pizza dough, a key ingredient in making pizza.\\n* **Dominated:**  A word meaning to be controlled or ruled over by someone or something else.\\n\\nThe joke uses \"dough-minated\" as a play on \"dominated.\" It suggests that the pizza maker felt controlled or overworked (dominated) by the pressure of working with dough and making pizzas, or perhaps by a demanding boss.  The humor comes from the unexpected connection between the mundane task of pizza making and the concept of being controlled.'}, next=(), config={'configurable': {'thread_id': '1', 'checkpoint_ns': '', 'checkpoint_id': '1f095940-774f-6d47-8002-dfc5db608700'}}, metadata={'source': 'loop', 'step': 2, 'parents': {}}, created_at='2025-09-19T20:05:46.129133+00:00', parent_config={'configurable': {'thread_id': '1', 'checkpoint_ns': '', 'checkpoint_id': '1f095940-66a9-6265-8001-f1868a16862e'}}, tasks=(), interrupts=())"
      ]
     },
     "execution_count": 10,
     "metadata": {},
     "output_type": "execute_result"
    }
   ],
   "source": [
    "workflow.get_state(config1)"
   ]
  },
  {
   "cell_type": "code",
   "execution_count": 11,
   "id": "957e5f0f",
   "metadata": {},
   "outputs": [
    {
     "data": {
      "text/plain": [
       "[StateSnapshot(values={'topic': 'pizza', 'joke': 'Why did the pizza maker quit his job?\\n\\nBecause he was tired of getting dough-minated!', 'explanation': 'The joke \"Why did the pizza maker quit his job? Because he was tired of getting dough-minated!\" is a pun that plays on the word \"dominated.\" Here\\'s the breakdown:\\n\\n* **Dough:** Refers to the pizza dough, a key ingredient in making pizza.\\n* **Dominated:**  A word meaning to be controlled or ruled over by someone or something else.\\n\\nThe joke uses \"dough-minated\" as a play on \"dominated.\" It suggests that the pizza maker felt controlled or overworked (dominated) by the pressure of working with dough and making pizzas, or perhaps by a demanding boss.  The humor comes from the unexpected connection between the mundane task of pizza making and the concept of being controlled.'}, next=(), config={'configurable': {'thread_id': '1', 'checkpoint_ns': '', 'checkpoint_id': '1f095940-774f-6d47-8002-dfc5db608700'}}, metadata={'source': 'loop', 'step': 2, 'parents': {}}, created_at='2025-09-19T20:05:46.129133+00:00', parent_config={'configurable': {'thread_id': '1', 'checkpoint_ns': '', 'checkpoint_id': '1f095940-66a9-6265-8001-f1868a16862e'}}, tasks=(), interrupts=()),\n",
       " StateSnapshot(values={'topic': 'pizza', 'joke': 'Why did the pizza maker quit his job?\\n\\nBecause he was tired of getting dough-minated!'}, next=('generate_explanation',), config={'configurable': {'thread_id': '1', 'checkpoint_ns': '', 'checkpoint_id': '1f095940-66a9-6265-8001-f1868a16862e'}}, metadata={'source': 'loop', 'step': 1, 'parents': {}}, created_at='2025-09-19T20:05:44.383139+00:00', parent_config={'configurable': {'thread_id': '1', 'checkpoint_ns': '', 'checkpoint_id': '1f095940-4fb4-65a7-8000-b7af051e2073'}}, tasks=(PregelTask(id='710b91b7-d538-475a-fc9e-7da81011a811', name='generate_explanation', path=('__pregel_pull', 'generate_explanation'), error=None, interrupts=(), state=None, result={'explanation': 'The joke \"Why did the pizza maker quit his job? Because he was tired of getting dough-minated!\" is a pun that plays on the word \"dominated.\" Here\\'s the breakdown:\\n\\n* **Dough:** Refers to the pizza dough, a key ingredient in making pizza.\\n* **Dominated:**  A word meaning to be controlled or ruled over by someone or something else.\\n\\nThe joke uses \"dough-minated\" as a play on \"dominated.\" It suggests that the pizza maker felt controlled or overworked (dominated) by the pressure of working with dough and making pizzas, or perhaps by a demanding boss.  The humor comes from the unexpected connection between the mundane task of pizza making and the concept of being controlled.'}),), interrupts=()),\n",
       " StateSnapshot(values={'topic': 'pizza'}, next=('generate_joke',), config={'configurable': {'thread_id': '1', 'checkpoint_ns': '', 'checkpoint_id': '1f095940-4fb4-65a7-8000-b7af051e2073'}}, metadata={'source': 'loop', 'step': 0, 'parents': {}}, created_at='2025-09-19T20:05:41.976003+00:00', parent_config={'configurable': {'thread_id': '1', 'checkpoint_ns': '', 'checkpoint_id': '1f095940-4faf-67a2-bfff-1aa5fcb79c62'}}, tasks=(PregelTask(id='2ef8ce85-493d-a5f8-be57-103e11d7982e', name='generate_joke', path=('__pregel_pull', 'generate_joke'), error=None, interrupts=(), state=None, result={'joke': 'Why did the pizza maker quit his job?\\n\\nBecause he was tired of getting dough-minated!'}),), interrupts=()),\n",
       " StateSnapshot(values={}, next=('__start__',), config={'configurable': {'thread_id': '1', 'checkpoint_ns': '', 'checkpoint_id': '1f095940-4faf-67a2-bfff-1aa5fcb79c62'}}, metadata={'source': 'input', 'step': -1, 'parents': {}}, created_at='2025-09-19T20:05:41.974006+00:00', parent_config=None, tasks=(PregelTask(id='c9bf521a-a124-9f0d-85d8-3cd3696227aa', name='__start__', path=('__pregel_pull', '__start__'), error=None, interrupts=(), state=None, result={'topic': 'pizza'}),), interrupts=())]"
      ]
     },
     "execution_count": 11,
     "metadata": {},
     "output_type": "execute_result"
    }
   ],
   "source": [
    "list(workflow.get_state_history(config1))"
   ]
  },
  {
   "cell_type": "code",
   "execution_count": 12,
   "id": "7e263bbe",
   "metadata": {},
   "outputs": [
    {
     "data": {
      "text/plain": [
       "{'topic': 'pasta',\n",
       " 'joke': 'Why did the spaghetti blush? \\n\\nBecause it saw the meat sauce!',\n",
       " 'explanation': 'The joke relies on **personification** and **double entendre**. Here\\'s the breakdown:\\n\\n* **Personification:** The joke gives human characteristics (blushing) to an inanimate object, spaghetti.\\n\\n* **Double Entendre:** The humor comes from the double meaning of \"meat sauce.\"\\n\\n    * **Literal Meaning:** Meat sauce is a common topping for spaghetti, made with meat (usually beef) and tomato sauce.\\n    * **Suggestive Meaning:** The phrase \"meat sauce\" is a slightly suggestive pun implying nudity or sexual attraction. The spaghetti \"blushes\" because it\\'s embarrassed or aroused by seeing the \"meat\" (the meat sauce) in a suggestive way.\\n\\n**In short:** The spaghetti blushes because the joke implies it\\'s embarrassed or aroused by the sight of the \"meat sauce\" in a suggestive manner. It\\'s a silly, slightly risqué joke that plays on the listener\\'s understanding of both food and common euphemisms.'}"
      ]
     },
     "execution_count": 12,
     "metadata": {},
     "output_type": "execute_result"
    }
   ],
   "source": [
    "config2 = {\"configurable\": {\"thread_id\": \"2\"}}\n",
    "workflow.invoke({'topic':'pasta'}, config=config2)"
   ]
  },
  {
   "cell_type": "code",
   "execution_count": 13,
   "id": "6a522b21",
   "metadata": {},
   "outputs": [
    {
     "data": {
      "text/plain": [
       "StateSnapshot(values={'topic': 'pizza', 'joke': 'Why did the pizza maker quit his job?\\n\\nBecause he was tired of getting dough-minated!', 'explanation': 'The joke \"Why did the pizza maker quit his job? Because he was tired of getting dough-minated!\" is a pun that plays on the word \"dominated.\" Here\\'s the breakdown:\\n\\n* **Dough:** Refers to the pizza dough, a key ingredient in making pizza.\\n* **Dominated:**  A word meaning to be controlled or ruled over by someone or something else.\\n\\nThe joke uses \"dough-minated\" as a play on \"dominated.\" It suggests that the pizza maker felt controlled or overworked (dominated) by the pressure of working with dough and making pizzas, or perhaps by a demanding boss.  The humor comes from the unexpected connection between the mundane task of pizza making and the concept of being controlled.'}, next=(), config={'configurable': {'thread_id': '1', 'checkpoint_ns': '', 'checkpoint_id': '1f095940-774f-6d47-8002-dfc5db608700'}}, metadata={'source': 'loop', 'step': 2, 'parents': {}}, created_at='2025-09-19T20:05:46.129133+00:00', parent_config={'configurable': {'thread_id': '1', 'checkpoint_ns': '', 'checkpoint_id': '1f095940-66a9-6265-8001-f1868a16862e'}}, tasks=(), interrupts=())"
      ]
     },
     "execution_count": 13,
     "metadata": {},
     "output_type": "execute_result"
    }
   ],
   "source": [
    "workflow.get_state(config1)"
   ]
  },
  {
   "cell_type": "code",
   "execution_count": 14,
   "id": "2bc16967",
   "metadata": {},
   "outputs": [
    {
     "data": {
      "text/plain": [
       "[StateSnapshot(values={'topic': 'pizza', 'joke': 'Why did the pizza maker quit his job?\\n\\nBecause he was tired of getting dough-minated!', 'explanation': 'The joke \"Why did the pizza maker quit his job? Because he was tired of getting dough-minated!\" is a pun that plays on the word \"dominated.\" Here\\'s the breakdown:\\n\\n* **Dough:** Refers to the pizza dough, a key ingredient in making pizza.\\n* **Dominated:**  A word meaning to be controlled or ruled over by someone or something else.\\n\\nThe joke uses \"dough-minated\" as a play on \"dominated.\" It suggests that the pizza maker felt controlled or overworked (dominated) by the pressure of working with dough and making pizzas, or perhaps by a demanding boss.  The humor comes from the unexpected connection between the mundane task of pizza making and the concept of being controlled.'}, next=(), config={'configurable': {'thread_id': '1', 'checkpoint_ns': '', 'checkpoint_id': '1f095940-774f-6d47-8002-dfc5db608700'}}, metadata={'source': 'loop', 'step': 2, 'parents': {}}, created_at='2025-09-19T20:05:46.129133+00:00', parent_config={'configurable': {'thread_id': '1', 'checkpoint_ns': '', 'checkpoint_id': '1f095940-66a9-6265-8001-f1868a16862e'}}, tasks=(), interrupts=()),\n",
       " StateSnapshot(values={'topic': 'pizza', 'joke': 'Why did the pizza maker quit his job?\\n\\nBecause he was tired of getting dough-minated!'}, next=('generate_explanation',), config={'configurable': {'thread_id': '1', 'checkpoint_ns': '', 'checkpoint_id': '1f095940-66a9-6265-8001-f1868a16862e'}}, metadata={'source': 'loop', 'step': 1, 'parents': {}}, created_at='2025-09-19T20:05:44.383139+00:00', parent_config={'configurable': {'thread_id': '1', 'checkpoint_ns': '', 'checkpoint_id': '1f095940-4fb4-65a7-8000-b7af051e2073'}}, tasks=(PregelTask(id='710b91b7-d538-475a-fc9e-7da81011a811', name='generate_explanation', path=('__pregel_pull', 'generate_explanation'), error=None, interrupts=(), state=None, result={'explanation': 'The joke \"Why did the pizza maker quit his job? Because he was tired of getting dough-minated!\" is a pun that plays on the word \"dominated.\" Here\\'s the breakdown:\\n\\n* **Dough:** Refers to the pizza dough, a key ingredient in making pizza.\\n* **Dominated:**  A word meaning to be controlled or ruled over by someone or something else.\\n\\nThe joke uses \"dough-minated\" as a play on \"dominated.\" It suggests that the pizza maker felt controlled or overworked (dominated) by the pressure of working with dough and making pizzas, or perhaps by a demanding boss.  The humor comes from the unexpected connection between the mundane task of pizza making and the concept of being controlled.'}),), interrupts=()),\n",
       " StateSnapshot(values={'topic': 'pizza'}, next=('generate_joke',), config={'configurable': {'thread_id': '1', 'checkpoint_ns': '', 'checkpoint_id': '1f095940-4fb4-65a7-8000-b7af051e2073'}}, metadata={'source': 'loop', 'step': 0, 'parents': {}}, created_at='2025-09-19T20:05:41.976003+00:00', parent_config={'configurable': {'thread_id': '1', 'checkpoint_ns': '', 'checkpoint_id': '1f095940-4faf-67a2-bfff-1aa5fcb79c62'}}, tasks=(PregelTask(id='2ef8ce85-493d-a5f8-be57-103e11d7982e', name='generate_joke', path=('__pregel_pull', 'generate_joke'), error=None, interrupts=(), state=None, result={'joke': 'Why did the pizza maker quit his job?\\n\\nBecause he was tired of getting dough-minated!'}),), interrupts=()),\n",
       " StateSnapshot(values={}, next=('__start__',), config={'configurable': {'thread_id': '1', 'checkpoint_ns': '', 'checkpoint_id': '1f095940-4faf-67a2-bfff-1aa5fcb79c62'}}, metadata={'source': 'input', 'step': -1, 'parents': {}}, created_at='2025-09-19T20:05:41.974006+00:00', parent_config=None, tasks=(PregelTask(id='c9bf521a-a124-9f0d-85d8-3cd3696227aa', name='__start__', path=('__pregel_pull', '__start__'), error=None, interrupts=(), state=None, result={'topic': 'pizza'}),), interrupts=())]"
      ]
     },
     "execution_count": 14,
     "metadata": {},
     "output_type": "execute_result"
    }
   ],
   "source": [
    "list(workflow.get_state_history(config1))"
   ]
  },
  {
   "cell_type": "markdown",
   "id": "a3a88da9",
   "metadata": {},
   "source": [
    "Time Travel"
   ]
  },
  {
   "cell_type": "code",
   "execution_count": 17,
   "id": "8860524b",
   "metadata": {},
   "outputs": [
    {
     "data": {
      "text/plain": [
       "StateSnapshot(values={'topic': 'pizza'}, next=('generate_joke',), config={'configurable': {'thread_id': '1', 'checkpoint_id': '1f095940-4fb4-65a7-8000-b7af051e2073'}}, metadata={'source': 'loop', 'step': 0, 'parents': {}}, created_at='2025-09-19T20:05:41.976003+00:00', parent_config={'configurable': {'thread_id': '1', 'checkpoint_ns': '', 'checkpoint_id': '1f095940-4faf-67a2-bfff-1aa5fcb79c62'}}, tasks=(PregelTask(id='2ef8ce85-493d-a5f8-be57-103e11d7982e', name='generate_joke', path=('__pregel_pull', 'generate_joke'), error=None, interrupts=(), state=None, result={'joke': 'Why did the pizza maker quit his job?\\n\\nBecause he was tired of getting dough-minated!'}),), interrupts=())"
      ]
     },
     "execution_count": 17,
     "metadata": {},
     "output_type": "execute_result"
    }
   ],
   "source": [
    "workflow.get_state({\"configurable\": {\"thread_id\": \"1\", \"checkpoint_id\": \"1f095940-4fb4-65a7-8000-b7af051e2073\"}})"
   ]
  },
  {
   "cell_type": "code",
   "execution_count": 19,
   "id": "feb603de",
   "metadata": {},
   "outputs": [
    {
     "data": {
      "text/plain": [
       "{'topic': 'pizza',\n",
       " 'joke': 'Why did the pizza maker quit his job?\\n\\nBecause he was tired of getting a pizza his mind!',\n",
       " 'explanation': 'The joke relies on a pun, using the phrase \"a pizza his mind\" in place of the common idiom \"a piece of his mind.\"\\n\\n*   **\"A piece of his mind\"** is an idiom that means to express one\\'s angry thoughts or opinions to someone. It implies a verbal reprimand or scolding.\\n\\n*   **\"A pizza his mind\"** plays on the similarity in sound but replaces \"piece\" with \"pizza,\" directly relating to the pizza maker\\'s profession.\\n\\nThe humor comes from the unexpected substitution of a work-related term (pizza) into a familiar phrase, creating a silly and absurd reason for the pizza maker quitting his job. He wasn\\'t just being scolded, he was being \"pizza\\'d\" in the mind, which is nonsensical and funny.'}"
      ]
     },
     "execution_count": 19,
     "metadata": {},
     "output_type": "execute_result"
    }
   ],
   "source": [
    "workflow.invoke(None, {\"configurable\": {\"thread_id\": \"1\", \"checkpoint_id\": \"1f095940-4fb4-65a7-8000-b7af051e2073\"}})"
   ]
  },
  {
   "cell_type": "code",
   "execution_count": 20,
   "id": "dbb2b8f0",
   "metadata": {},
   "outputs": [
    {
     "data": {
      "text/plain": [
       "[StateSnapshot(values={'topic': 'pizza', 'joke': 'Why did the pizza maker quit his job?\\n\\nBecause he was tired of getting a pizza his mind!', 'explanation': 'The joke relies on a pun, using the phrase \"a pizza his mind\" in place of the common idiom \"a piece of his mind.\"\\n\\n*   **\"A piece of his mind\"** is an idiom that means to express one\\'s angry thoughts or opinions to someone. It implies a verbal reprimand or scolding.\\n\\n*   **\"A pizza his mind\"** plays on the similarity in sound but replaces \"piece\" with \"pizza,\" directly relating to the pizza maker\\'s profession.\\n\\nThe humor comes from the unexpected substitution of a work-related term (pizza) into a familiar phrase, creating a silly and absurd reason for the pizza maker quitting his job. He wasn\\'t just being scolded, he was being \"pizza\\'d\" in the mind, which is nonsensical and funny.'}, next=(), config={'configurable': {'thread_id': '1', 'checkpoint_ns': '', 'checkpoint_id': '1f095944-3999-67cc-8002-4aa649176108'}}, metadata={'source': 'loop', 'step': 2, 'parents': {}}, created_at='2025-09-19T20:07:27.032314+00:00', parent_config={'configurable': {'thread_id': '1', 'checkpoint_ns': '', 'checkpoint_id': '1f095944-2784-6d01-8001-debb2b6699e5'}}, tasks=(), interrupts=()),\n",
       " StateSnapshot(values={'topic': 'pizza', 'joke': 'Why did the pizza maker quit his job?\\n\\nBecause he was tired of getting a pizza his mind!'}, next=('generate_explanation',), config={'configurable': {'thread_id': '1', 'checkpoint_ns': '', 'checkpoint_id': '1f095944-2784-6d01-8001-debb2b6699e5'}}, metadata={'source': 'loop', 'step': 1, 'parents': {}}, created_at='2025-09-19T20:07:25.136409+00:00', parent_config={'configurable': {'thread_id': '1', 'checkpoint_ns': '', 'checkpoint_id': '1f095940-4fb4-65a7-8000-b7af051e2073'}}, tasks=(PregelTask(id='8955fa02-419b-395d-2b25-85b314e63c52', name='generate_explanation', path=('__pregel_pull', 'generate_explanation'), error=None, interrupts=(), state=None, result={'explanation': 'The joke relies on a pun, using the phrase \"a pizza his mind\" in place of the common idiom \"a piece of his mind.\"\\n\\n*   **\"A piece of his mind\"** is an idiom that means to express one\\'s angry thoughts or opinions to someone. It implies a verbal reprimand or scolding.\\n\\n*   **\"A pizza his mind\"** plays on the similarity in sound but replaces \"piece\" with \"pizza,\" directly relating to the pizza maker\\'s profession.\\n\\nThe humor comes from the unexpected substitution of a work-related term (pizza) into a familiar phrase, creating a silly and absurd reason for the pizza maker quitting his job. He wasn\\'t just being scolded, he was being \"pizza\\'d\" in the mind, which is nonsensical and funny.'}),), interrupts=()),\n",
       " StateSnapshot(values={'topic': 'pizza', 'joke': 'Why did the pizza maker quit his job?\\n\\nBecause he was tired of getting dough-minated!', 'explanation': 'The joke \"Why did the pizza maker quit his job? Because he was tired of getting dough-minated!\" is a pun that plays on the word \"dominated.\" Here\\'s the breakdown:\\n\\n* **Dough:** Refers to the pizza dough, a key ingredient in making pizza.\\n* **Dominated:**  A word meaning to be controlled or ruled over by someone or something else.\\n\\nThe joke uses \"dough-minated\" as a play on \"dominated.\" It suggests that the pizza maker felt controlled or overworked (dominated) by the pressure of working with dough and making pizzas, or perhaps by a demanding boss.  The humor comes from the unexpected connection between the mundane task of pizza making and the concept of being controlled.'}, next=(), config={'configurable': {'thread_id': '1', 'checkpoint_ns': '', 'checkpoint_id': '1f095940-774f-6d47-8002-dfc5db608700'}}, metadata={'source': 'loop', 'step': 2, 'parents': {}}, created_at='2025-09-19T20:05:46.129133+00:00', parent_config={'configurable': {'thread_id': '1', 'checkpoint_ns': '', 'checkpoint_id': '1f095940-66a9-6265-8001-f1868a16862e'}}, tasks=(), interrupts=()),\n",
       " StateSnapshot(values={'topic': 'pizza', 'joke': 'Why did the pizza maker quit his job?\\n\\nBecause he was tired of getting dough-minated!'}, next=('generate_explanation',), config={'configurable': {'thread_id': '1', 'checkpoint_ns': '', 'checkpoint_id': '1f095940-66a9-6265-8001-f1868a16862e'}}, metadata={'source': 'loop', 'step': 1, 'parents': {}}, created_at='2025-09-19T20:05:44.383139+00:00', parent_config={'configurable': {'thread_id': '1', 'checkpoint_ns': '', 'checkpoint_id': '1f095940-4fb4-65a7-8000-b7af051e2073'}}, tasks=(PregelTask(id='710b91b7-d538-475a-fc9e-7da81011a811', name='generate_explanation', path=('__pregel_pull', 'generate_explanation'), error=None, interrupts=(), state=None, result={'explanation': 'The joke \"Why did the pizza maker quit his job? Because he was tired of getting dough-minated!\" is a pun that plays on the word \"dominated.\" Here\\'s the breakdown:\\n\\n* **Dough:** Refers to the pizza dough, a key ingredient in making pizza.\\n* **Dominated:**  A word meaning to be controlled or ruled over by someone or something else.\\n\\nThe joke uses \"dough-minated\" as a play on \"dominated.\" It suggests that the pizza maker felt controlled or overworked (dominated) by the pressure of working with dough and making pizzas, or perhaps by a demanding boss.  The humor comes from the unexpected connection between the mundane task of pizza making and the concept of being controlled.'}),), interrupts=()),\n",
       " StateSnapshot(values={'topic': 'pizza'}, next=('generate_joke',), config={'configurable': {'thread_id': '1', 'checkpoint_ns': '', 'checkpoint_id': '1f095940-4fb4-65a7-8000-b7af051e2073'}}, metadata={'source': 'loop', 'step': 0, 'parents': {}}, created_at='2025-09-19T20:05:41.976003+00:00', parent_config={'configurable': {'thread_id': '1', 'checkpoint_ns': '', 'checkpoint_id': '1f095940-4faf-67a2-bfff-1aa5fcb79c62'}}, tasks=(PregelTask(id='2ef8ce85-493d-a5f8-be57-103e11d7982e', name='generate_joke', path=('__pregel_pull', 'generate_joke'), error=None, interrupts=(), state=None, result={'joke': 'Why did the pizza maker quit his job?\\n\\nBecause he was tired of getting dough-minated!'}),), interrupts=()),\n",
       " StateSnapshot(values={}, next=('__start__',), config={'configurable': {'thread_id': '1', 'checkpoint_ns': '', 'checkpoint_id': '1f095940-4faf-67a2-bfff-1aa5fcb79c62'}}, metadata={'source': 'input', 'step': -1, 'parents': {}}, created_at='2025-09-19T20:05:41.974006+00:00', parent_config=None, tasks=(PregelTask(id='c9bf521a-a124-9f0d-85d8-3cd3696227aa', name='__start__', path=('__pregel_pull', '__start__'), error=None, interrupts=(), state=None, result={'topic': 'pizza'}),), interrupts=())]"
      ]
     },
     "execution_count": 20,
     "metadata": {},
     "output_type": "execute_result"
    }
   ],
   "source": [
    "list(workflow.get_state_history(config1))"
   ]
  },
  {
   "cell_type": "markdown",
   "id": "efbd49c4",
   "metadata": {},
   "source": [
    "Updating State"
   ]
  },
  {
   "cell_type": "code",
   "execution_count": 21,
   "id": "7e290094",
   "metadata": {},
   "outputs": [
    {
     "data": {
      "text/plain": [
       "{'configurable': {'thread_id': '1',\n",
       "  'checkpoint_ns': '',\n",
       "  'checkpoint_id': '1f095944-c992-688c-8001-9403a9119cde'}}"
      ]
     },
     "execution_count": 21,
     "metadata": {},
     "output_type": "execute_result"
    }
   ],
   "source": [
    "workflow.update_state({\"configurable\": {\"thread_id\": \"1\", \"checkpoint_id\": \"1f095940-4fb4-65a7-8000-b7af051e2073\", \"checkpoint_ns\": \"\"}}, {'topic':'samosa'})"
   ]
  },
  {
   "cell_type": "code",
   "execution_count": 24,
   "id": "50d49228",
   "metadata": {},
   "outputs": [
    {
     "data": {
      "text/plain": [
       "[StateSnapshot(values={'topic': 'pizza', 'joke': 'Why did the pizza maker quit his job? \\n\\nBecause he was tired of getting kneaded!', 'explanation': 'The joke plays on the double meaning of the word \"kneaded.\"\\n\\n* **Literal Meaning:** In the context of making pizza dough, \"kneading\" refers to the process of working the dough with your hands to develop the gluten and create a smooth, elastic texture. This is a necessary and repetitive task for a pizza maker.\\n\\n* **Figurative Meaning:** \"Kneaded\" can also mean to be massaged or to be the recipient of repeated physical pressure or manipulation. Figuratively, it can also imply being overworked or constantly pushed around.\\n\\nThe joke\\'s humor comes from the pizza maker being \"tired of getting kneaded\" not just in the literal sense of making dough, but also in the figurative sense of being overworked, potentially by a demanding boss or a high-pressure work environment. The punchline makes the listener realize the double meaning and the implied frustration of the pizza maker.'}, next=(), config={'configurable': {'thread_id': '1', 'checkpoint_ns': '', 'checkpoint_id': '1f095947-5b5c-6d47-8002-56e225a90052'}}, metadata={'source': 'loop', 'step': 2, 'parents': {}}, created_at='2025-09-19T20:08:51.103264+00:00', parent_config={'configurable': {'thread_id': '1', 'checkpoint_ns': '', 'checkpoint_id': '1f095947-4406-6461-8001-c3bd9fe8d960'}}, tasks=(), interrupts=()),\n",
       " StateSnapshot(values={'topic': 'pizza', 'joke': 'Why did the pizza maker quit his job? \\n\\nBecause he was tired of getting kneaded!'}, next=('generate_explanation',), config={'configurable': {'thread_id': '1', 'checkpoint_ns': '', 'checkpoint_id': '1f095947-4406-6461-8001-c3bd9fe8d960'}}, metadata={'source': 'loop', 'step': 1, 'parents': {}}, created_at='2025-09-19T20:08:48.656086+00:00', parent_config={'configurable': {'thread_id': '1', 'checkpoint_ns': '', 'checkpoint_id': '1f095940-4fb4-65a7-8000-b7af051e2073'}}, tasks=(PregelTask(id='3a15a406-b485-0e92-a0e0-c4acbf2e1a7f', name='generate_explanation', path=('__pregel_pull', 'generate_explanation'), error=None, interrupts=(), state=None, result={'explanation': 'The joke plays on the double meaning of the word \"kneaded.\"\\n\\n* **Literal Meaning:** In the context of making pizza dough, \"kneading\" refers to the process of working the dough with your hands to develop the gluten and create a smooth, elastic texture. This is a necessary and repetitive task for a pizza maker.\\n\\n* **Figurative Meaning:** \"Kneaded\" can also mean to be massaged or to be the recipient of repeated physical pressure or manipulation. Figuratively, it can also imply being overworked or constantly pushed around.\\n\\nThe joke\\'s humor comes from the pizza maker being \"tired of getting kneaded\" not just in the literal sense of making dough, but also in the figurative sense of being overworked, potentially by a demanding boss or a high-pressure work environment. The punchline makes the listener realize the double meaning and the implied frustration of the pizza maker.'}),), interrupts=()),\n",
       " StateSnapshot(values={'topic': 'samosa'}, next=('generate_joke',), config={'configurable': {'thread_id': '1', 'checkpoint_ns': '', 'checkpoint_id': '1f095944-c992-688c-8001-9403a9119cde'}}, metadata={'source': 'update', 'step': 1, 'parents': {}}, created_at='2025-09-19T20:07:42.128961+00:00', parent_config={'configurable': {'thread_id': '1', 'checkpoint_ns': '', 'checkpoint_id': '1f095940-4fb4-65a7-8000-b7af051e2073'}}, tasks=(PregelTask(id='ff18cc1b-7b2d-0548-0b89-d7bce10893e0', name='generate_joke', path=('__pregel_pull', 'generate_joke'), error=None, interrupts=(), state=None, result=None),), interrupts=()),\n",
       " StateSnapshot(values={'topic': 'pizza', 'joke': 'Why did the pizza maker quit his job?\\n\\nBecause he was tired of getting a pizza his mind!', 'explanation': 'The joke relies on a pun, using the phrase \"a pizza his mind\" in place of the common idiom \"a piece of his mind.\"\\n\\n*   **\"A piece of his mind\"** is an idiom that means to express one\\'s angry thoughts or opinions to someone. It implies a verbal reprimand or scolding.\\n\\n*   **\"A pizza his mind\"** plays on the similarity in sound but replaces \"piece\" with \"pizza,\" directly relating to the pizza maker\\'s profession.\\n\\nThe humor comes from the unexpected substitution of a work-related term (pizza) into a familiar phrase, creating a silly and absurd reason for the pizza maker quitting his job. He wasn\\'t just being scolded, he was being \"pizza\\'d\" in the mind, which is nonsensical and funny.'}, next=(), config={'configurable': {'thread_id': '1', 'checkpoint_ns': '', 'checkpoint_id': '1f095944-3999-67cc-8002-4aa649176108'}}, metadata={'source': 'loop', 'step': 2, 'parents': {}}, created_at='2025-09-19T20:07:27.032314+00:00', parent_config={'configurable': {'thread_id': '1', 'checkpoint_ns': '', 'checkpoint_id': '1f095944-2784-6d01-8001-debb2b6699e5'}}, tasks=(), interrupts=()),\n",
       " StateSnapshot(values={'topic': 'pizza', 'joke': 'Why did the pizza maker quit his job?\\n\\nBecause he was tired of getting a pizza his mind!'}, next=('generate_explanation',), config={'configurable': {'thread_id': '1', 'checkpoint_ns': '', 'checkpoint_id': '1f095944-2784-6d01-8001-debb2b6699e5'}}, metadata={'source': 'loop', 'step': 1, 'parents': {}}, created_at='2025-09-19T20:07:25.136409+00:00', parent_config={'configurable': {'thread_id': '1', 'checkpoint_ns': '', 'checkpoint_id': '1f095940-4fb4-65a7-8000-b7af051e2073'}}, tasks=(PregelTask(id='8955fa02-419b-395d-2b25-85b314e63c52', name='generate_explanation', path=('__pregel_pull', 'generate_explanation'), error=None, interrupts=(), state=None, result={'explanation': 'The joke relies on a pun, using the phrase \"a pizza his mind\" in place of the common idiom \"a piece of his mind.\"\\n\\n*   **\"A piece of his mind\"** is an idiom that means to express one\\'s angry thoughts or opinions to someone. It implies a verbal reprimand or scolding.\\n\\n*   **\"A pizza his mind\"** plays on the similarity in sound but replaces \"piece\" with \"pizza,\" directly relating to the pizza maker\\'s profession.\\n\\nThe humor comes from the unexpected substitution of a work-related term (pizza) into a familiar phrase, creating a silly and absurd reason for the pizza maker quitting his job. He wasn\\'t just being scolded, he was being \"pizza\\'d\" in the mind, which is nonsensical and funny.'}),), interrupts=()),\n",
       " StateSnapshot(values={'topic': 'pizza', 'joke': 'Why did the pizza maker quit his job?\\n\\nBecause he was tired of getting dough-minated!', 'explanation': 'The joke \"Why did the pizza maker quit his job? Because he was tired of getting dough-minated!\" is a pun that plays on the word \"dominated.\" Here\\'s the breakdown:\\n\\n* **Dough:** Refers to the pizza dough, a key ingredient in making pizza.\\n* **Dominated:**  A word meaning to be controlled or ruled over by someone or something else.\\n\\nThe joke uses \"dough-minated\" as a play on \"dominated.\" It suggests that the pizza maker felt controlled or overworked (dominated) by the pressure of working with dough and making pizzas, or perhaps by a demanding boss.  The humor comes from the unexpected connection between the mundane task of pizza making and the concept of being controlled.'}, next=(), config={'configurable': {'thread_id': '1', 'checkpoint_ns': '', 'checkpoint_id': '1f095940-774f-6d47-8002-dfc5db608700'}}, metadata={'source': 'loop', 'step': 2, 'parents': {}}, created_at='2025-09-19T20:05:46.129133+00:00', parent_config={'configurable': {'thread_id': '1', 'checkpoint_ns': '', 'checkpoint_id': '1f095940-66a9-6265-8001-f1868a16862e'}}, tasks=(), interrupts=()),\n",
       " StateSnapshot(values={'topic': 'pizza', 'joke': 'Why did the pizza maker quit his job?\\n\\nBecause he was tired of getting dough-minated!'}, next=('generate_explanation',), config={'configurable': {'thread_id': '1', 'checkpoint_ns': '', 'checkpoint_id': '1f095940-66a9-6265-8001-f1868a16862e'}}, metadata={'source': 'loop', 'step': 1, 'parents': {}}, created_at='2025-09-19T20:05:44.383139+00:00', parent_config={'configurable': {'thread_id': '1', 'checkpoint_ns': '', 'checkpoint_id': '1f095940-4fb4-65a7-8000-b7af051e2073'}}, tasks=(PregelTask(id='710b91b7-d538-475a-fc9e-7da81011a811', name='generate_explanation', path=('__pregel_pull', 'generate_explanation'), error=None, interrupts=(), state=None, result={'explanation': 'The joke \"Why did the pizza maker quit his job? Because he was tired of getting dough-minated!\" is a pun that plays on the word \"dominated.\" Here\\'s the breakdown:\\n\\n* **Dough:** Refers to the pizza dough, a key ingredient in making pizza.\\n* **Dominated:**  A word meaning to be controlled or ruled over by someone or something else.\\n\\nThe joke uses \"dough-minated\" as a play on \"dominated.\" It suggests that the pizza maker felt controlled or overworked (dominated) by the pressure of working with dough and making pizzas, or perhaps by a demanding boss.  The humor comes from the unexpected connection between the mundane task of pizza making and the concept of being controlled.'}),), interrupts=()),\n",
       " StateSnapshot(values={'topic': 'pizza'}, next=('generate_joke',), config={'configurable': {'thread_id': '1', 'checkpoint_ns': '', 'checkpoint_id': '1f095940-4fb4-65a7-8000-b7af051e2073'}}, metadata={'source': 'loop', 'step': 0, 'parents': {}}, created_at='2025-09-19T20:05:41.976003+00:00', parent_config={'configurable': {'thread_id': '1', 'checkpoint_ns': '', 'checkpoint_id': '1f095940-4faf-67a2-bfff-1aa5fcb79c62'}}, tasks=(PregelTask(id='2ef8ce85-493d-a5f8-be57-103e11d7982e', name='generate_joke', path=('__pregel_pull', 'generate_joke'), error=None, interrupts=(), state=None, result={'joke': 'Why did the pizza maker quit his job?\\n\\nBecause he was tired of getting dough-minated!'}),), interrupts=()),\n",
       " StateSnapshot(values={}, next=('__start__',), config={'configurable': {'thread_id': '1', 'checkpoint_ns': '', 'checkpoint_id': '1f095940-4faf-67a2-bfff-1aa5fcb79c62'}}, metadata={'source': 'input', 'step': -1, 'parents': {}}, created_at='2025-09-19T20:05:41.974006+00:00', parent_config=None, tasks=(PregelTask(id='c9bf521a-a124-9f0d-85d8-3cd3696227aa', name='__start__', path=('__pregel_pull', '__start__'), error=None, interrupts=(), state=None, result={'topic': 'pizza'}),), interrupts=())]"
      ]
     },
     "execution_count": 24,
     "metadata": {},
     "output_type": "execute_result"
    }
   ],
   "source": [
    "list(workflow.get_state_history(config1))"
   ]
  },
  {
   "cell_type": "code",
   "execution_count": 25,
   "id": "e20e5d54",
   "metadata": {},
   "outputs": [
    {
     "data": {
      "text/plain": [
       "{'topic': 'samosa',\n",
       " 'joke': 'Why did the samosa go to therapy?\\n\\nBecause it was feeling too stuffed with its emotions!',\n",
       " 'explanation': 'The joke relies on a clever double meaning of the word \"stuffed.\" Here\\'s the breakdown:\\n\\n* **Literal Meaning:** A samosa is a fried or baked pastry filled (stuffed) with a savory filling, like potatoes, peas, and spices. This is the obvious, food-related meaning of \"stuffed.\"\\n\\n* **Figurative Meaning:** \"Stuffed\" can also mean that someone is suppressing or holding back their emotions.  They are \"stuffed\" full of feelings they haven\\'t processed or expressed.\\n\\nThe joke plays on this ambiguity. The samosa is going to therapy because it\\'s \"stuffed,\" and we initially think of the literal meaning (full of filling).  The punchline reveals the intended meaning: the samosa is overwhelmed by its emotions and needs help to deal with them.\\n\\nTherefore, the humor comes from the unexpected shift from the literal, food-related interpretation to the figurative, emotional one.'}"
      ]
     },
     "execution_count": 25,
     "metadata": {},
     "output_type": "execute_result"
    }
   ],
   "source": [
    "workflow.invoke(None, {\"configurable\": {\"thread_id\": \"1\", \"checkpoint_id\": \"1f095944-c992-688c-8001-9403a9119cde\"}})"
   ]
  },
  {
   "cell_type": "code",
   "execution_count": 26,
   "id": "e2146646",
   "metadata": {},
   "outputs": [
    {
     "data": {
      "text/plain": [
       "[StateSnapshot(values={'topic': 'samosa', 'joke': 'Why did the samosa go to therapy?\\n\\nBecause it was feeling too stuffed with its emotions!', 'explanation': 'The joke relies on a clever double meaning of the word \"stuffed.\" Here\\'s the breakdown:\\n\\n* **Literal Meaning:** A samosa is a fried or baked pastry filled (stuffed) with a savory filling, like potatoes, peas, and spices. This is the obvious, food-related meaning of \"stuffed.\"\\n\\n* **Figurative Meaning:** \"Stuffed\" can also mean that someone is suppressing or holding back their emotions.  They are \"stuffed\" full of feelings they haven\\'t processed or expressed.\\n\\nThe joke plays on this ambiguity. The samosa is going to therapy because it\\'s \"stuffed,\" and we initially think of the literal meaning (full of filling).  The punchline reveals the intended meaning: the samosa is overwhelmed by its emotions and needs help to deal with them.\\n\\nTherefore, the humor comes from the unexpected shift from the literal, food-related interpretation to the figurative, emotional one.'}, next=(), config={'configurable': {'thread_id': '1', 'checkpoint_ns': '', 'checkpoint_id': '1f09594b-25ca-65af-8003-4d93a56b1517'}}, metadata={'source': 'loop', 'step': 3, 'parents': {}}, created_at='2025-09-19T20:10:32.859998+00:00', parent_config={'configurable': {'thread_id': '1', 'checkpoint_ns': '', 'checkpoint_id': '1f09594b-0ee2-6b01-8002-782210c0ad98'}}, tasks=(), interrupts=()),\n",
       " StateSnapshot(values={'topic': 'samosa', 'joke': 'Why did the samosa go to therapy?\\n\\nBecause it was feeling too stuffed with its emotions!'}, next=('generate_explanation',), config={'configurable': {'thread_id': '1', 'checkpoint_ns': '', 'checkpoint_id': '1f09594b-0ee2-6b01-8002-782210c0ad98'}}, metadata={'source': 'loop', 'step': 2, 'parents': {}}, created_at='2025-09-19T20:10:30.458240+00:00', parent_config={'configurable': {'thread_id': '1', 'checkpoint_ns': '', 'checkpoint_id': '1f095944-c992-688c-8001-9403a9119cde'}}, tasks=(PregelTask(id='51205b78-b904-d1e4-c165-b13636398371', name='generate_explanation', path=('__pregel_pull', 'generate_explanation'), error=None, interrupts=(), state=None, result={'explanation': 'The joke relies on a clever double meaning of the word \"stuffed.\" Here\\'s the breakdown:\\n\\n* **Literal Meaning:** A samosa is a fried or baked pastry filled (stuffed) with a savory filling, like potatoes, peas, and spices. This is the obvious, food-related meaning of \"stuffed.\"\\n\\n* **Figurative Meaning:** \"Stuffed\" can also mean that someone is suppressing or holding back their emotions.  They are \"stuffed\" full of feelings they haven\\'t processed or expressed.\\n\\nThe joke plays on this ambiguity. The samosa is going to therapy because it\\'s \"stuffed,\" and we initially think of the literal meaning (full of filling).  The punchline reveals the intended meaning: the samosa is overwhelmed by its emotions and needs help to deal with them.\\n\\nTherefore, the humor comes from the unexpected shift from the literal, food-related interpretation to the figurative, emotional one.'}),), interrupts=()),\n",
       " StateSnapshot(values={'topic': 'pizza', 'joke': 'Why did the pizza maker quit his job? \\n\\nBecause he was tired of getting kneaded!', 'explanation': 'The joke plays on the double meaning of the word \"kneaded.\"\\n\\n* **Literal Meaning:** In the context of making pizza dough, \"kneading\" refers to the process of working the dough with your hands to develop the gluten and create a smooth, elastic texture. This is a necessary and repetitive task for a pizza maker.\\n\\n* **Figurative Meaning:** \"Kneaded\" can also mean to be massaged or to be the recipient of repeated physical pressure or manipulation. Figuratively, it can also imply being overworked or constantly pushed around.\\n\\nThe joke\\'s humor comes from the pizza maker being \"tired of getting kneaded\" not just in the literal sense of making dough, but also in the figurative sense of being overworked, potentially by a demanding boss or a high-pressure work environment. The punchline makes the listener realize the double meaning and the implied frustration of the pizza maker.'}, next=(), config={'configurable': {'thread_id': '1', 'checkpoint_ns': '', 'checkpoint_id': '1f095947-5b5c-6d47-8002-56e225a90052'}}, metadata={'source': 'loop', 'step': 2, 'parents': {}}, created_at='2025-09-19T20:08:51.103264+00:00', parent_config={'configurable': {'thread_id': '1', 'checkpoint_ns': '', 'checkpoint_id': '1f095947-4406-6461-8001-c3bd9fe8d960'}}, tasks=(), interrupts=()),\n",
       " StateSnapshot(values={'topic': 'pizza', 'joke': 'Why did the pizza maker quit his job? \\n\\nBecause he was tired of getting kneaded!'}, next=('generate_explanation',), config={'configurable': {'thread_id': '1', 'checkpoint_ns': '', 'checkpoint_id': '1f095947-4406-6461-8001-c3bd9fe8d960'}}, metadata={'source': 'loop', 'step': 1, 'parents': {}}, created_at='2025-09-19T20:08:48.656086+00:00', parent_config={'configurable': {'thread_id': '1', 'checkpoint_ns': '', 'checkpoint_id': '1f095940-4fb4-65a7-8000-b7af051e2073'}}, tasks=(PregelTask(id='3a15a406-b485-0e92-a0e0-c4acbf2e1a7f', name='generate_explanation', path=('__pregel_pull', 'generate_explanation'), error=None, interrupts=(), state=None, result={'explanation': 'The joke plays on the double meaning of the word \"kneaded.\"\\n\\n* **Literal Meaning:** In the context of making pizza dough, \"kneading\" refers to the process of working the dough with your hands to develop the gluten and create a smooth, elastic texture. This is a necessary and repetitive task for a pizza maker.\\n\\n* **Figurative Meaning:** \"Kneaded\" can also mean to be massaged or to be the recipient of repeated physical pressure or manipulation. Figuratively, it can also imply being overworked or constantly pushed around.\\n\\nThe joke\\'s humor comes from the pizza maker being \"tired of getting kneaded\" not just in the literal sense of making dough, but also in the figurative sense of being overworked, potentially by a demanding boss or a high-pressure work environment. The punchline makes the listener realize the double meaning and the implied frustration of the pizza maker.'}),), interrupts=()),\n",
       " StateSnapshot(values={'topic': 'samosa'}, next=('generate_joke',), config={'configurable': {'thread_id': '1', 'checkpoint_ns': '', 'checkpoint_id': '1f095944-c992-688c-8001-9403a9119cde'}}, metadata={'source': 'update', 'step': 1, 'parents': {}}, created_at='2025-09-19T20:07:42.128961+00:00', parent_config={'configurable': {'thread_id': '1', 'checkpoint_ns': '', 'checkpoint_id': '1f095940-4fb4-65a7-8000-b7af051e2073'}}, tasks=(PregelTask(id='ff18cc1b-7b2d-0548-0b89-d7bce10893e0', name='generate_joke', path=('__pregel_pull', 'generate_joke'), error=None, interrupts=(), state=None, result={'joke': 'Why did the samosa go to therapy?\\n\\nBecause it was feeling too stuffed with its emotions!'}),), interrupts=()),\n",
       " StateSnapshot(values={'topic': 'pizza', 'joke': 'Why did the pizza maker quit his job?\\n\\nBecause he was tired of getting a pizza his mind!', 'explanation': 'The joke relies on a pun, using the phrase \"a pizza his mind\" in place of the common idiom \"a piece of his mind.\"\\n\\n*   **\"A piece of his mind\"** is an idiom that means to express one\\'s angry thoughts or opinions to someone. It implies a verbal reprimand or scolding.\\n\\n*   **\"A pizza his mind\"** plays on the similarity in sound but replaces \"piece\" with \"pizza,\" directly relating to the pizza maker\\'s profession.\\n\\nThe humor comes from the unexpected substitution of a work-related term (pizza) into a familiar phrase, creating a silly and absurd reason for the pizza maker quitting his job. He wasn\\'t just being scolded, he was being \"pizza\\'d\" in the mind, which is nonsensical and funny.'}, next=(), config={'configurable': {'thread_id': '1', 'checkpoint_ns': '', 'checkpoint_id': '1f095944-3999-67cc-8002-4aa649176108'}}, metadata={'source': 'loop', 'step': 2, 'parents': {}}, created_at='2025-09-19T20:07:27.032314+00:00', parent_config={'configurable': {'thread_id': '1', 'checkpoint_ns': '', 'checkpoint_id': '1f095944-2784-6d01-8001-debb2b6699e5'}}, tasks=(), interrupts=()),\n",
       " StateSnapshot(values={'topic': 'pizza', 'joke': 'Why did the pizza maker quit his job?\\n\\nBecause he was tired of getting a pizza his mind!'}, next=('generate_explanation',), config={'configurable': {'thread_id': '1', 'checkpoint_ns': '', 'checkpoint_id': '1f095944-2784-6d01-8001-debb2b6699e5'}}, metadata={'source': 'loop', 'step': 1, 'parents': {}}, created_at='2025-09-19T20:07:25.136409+00:00', parent_config={'configurable': {'thread_id': '1', 'checkpoint_ns': '', 'checkpoint_id': '1f095940-4fb4-65a7-8000-b7af051e2073'}}, tasks=(PregelTask(id='8955fa02-419b-395d-2b25-85b314e63c52', name='generate_explanation', path=('__pregel_pull', 'generate_explanation'), error=None, interrupts=(), state=None, result={'explanation': 'The joke relies on a pun, using the phrase \"a pizza his mind\" in place of the common idiom \"a piece of his mind.\"\\n\\n*   **\"A piece of his mind\"** is an idiom that means to express one\\'s angry thoughts or opinions to someone. It implies a verbal reprimand or scolding.\\n\\n*   **\"A pizza his mind\"** plays on the similarity in sound but replaces \"piece\" with \"pizza,\" directly relating to the pizza maker\\'s profession.\\n\\nThe humor comes from the unexpected substitution of a work-related term (pizza) into a familiar phrase, creating a silly and absurd reason for the pizza maker quitting his job. He wasn\\'t just being scolded, he was being \"pizza\\'d\" in the mind, which is nonsensical and funny.'}),), interrupts=()),\n",
       " StateSnapshot(values={'topic': 'pizza', 'joke': 'Why did the pizza maker quit his job?\\n\\nBecause he was tired of getting dough-minated!', 'explanation': 'The joke \"Why did the pizza maker quit his job? Because he was tired of getting dough-minated!\" is a pun that plays on the word \"dominated.\" Here\\'s the breakdown:\\n\\n* **Dough:** Refers to the pizza dough, a key ingredient in making pizza.\\n* **Dominated:**  A word meaning to be controlled or ruled over by someone or something else.\\n\\nThe joke uses \"dough-minated\" as a play on \"dominated.\" It suggests that the pizza maker felt controlled or overworked (dominated) by the pressure of working with dough and making pizzas, or perhaps by a demanding boss.  The humor comes from the unexpected connection between the mundane task of pizza making and the concept of being controlled.'}, next=(), config={'configurable': {'thread_id': '1', 'checkpoint_ns': '', 'checkpoint_id': '1f095940-774f-6d47-8002-dfc5db608700'}}, metadata={'source': 'loop', 'step': 2, 'parents': {}}, created_at='2025-09-19T20:05:46.129133+00:00', parent_config={'configurable': {'thread_id': '1', 'checkpoint_ns': '', 'checkpoint_id': '1f095940-66a9-6265-8001-f1868a16862e'}}, tasks=(), interrupts=()),\n",
       " StateSnapshot(values={'topic': 'pizza', 'joke': 'Why did the pizza maker quit his job?\\n\\nBecause he was tired of getting dough-minated!'}, next=('generate_explanation',), config={'configurable': {'thread_id': '1', 'checkpoint_ns': '', 'checkpoint_id': '1f095940-66a9-6265-8001-f1868a16862e'}}, metadata={'source': 'loop', 'step': 1, 'parents': {}}, created_at='2025-09-19T20:05:44.383139+00:00', parent_config={'configurable': {'thread_id': '1', 'checkpoint_ns': '', 'checkpoint_id': '1f095940-4fb4-65a7-8000-b7af051e2073'}}, tasks=(PregelTask(id='710b91b7-d538-475a-fc9e-7da81011a811', name='generate_explanation', path=('__pregel_pull', 'generate_explanation'), error=None, interrupts=(), state=None, result={'explanation': 'The joke \"Why did the pizza maker quit his job? Because he was tired of getting dough-minated!\" is a pun that plays on the word \"dominated.\" Here\\'s the breakdown:\\n\\n* **Dough:** Refers to the pizza dough, a key ingredient in making pizza.\\n* **Dominated:**  A word meaning to be controlled or ruled over by someone or something else.\\n\\nThe joke uses \"dough-minated\" as a play on \"dominated.\" It suggests that the pizza maker felt controlled or overworked (dominated) by the pressure of working with dough and making pizzas, or perhaps by a demanding boss.  The humor comes from the unexpected connection between the mundane task of pizza making and the concept of being controlled.'}),), interrupts=()),\n",
       " StateSnapshot(values={'topic': 'pizza'}, next=('generate_joke',), config={'configurable': {'thread_id': '1', 'checkpoint_ns': '', 'checkpoint_id': '1f095940-4fb4-65a7-8000-b7af051e2073'}}, metadata={'source': 'loop', 'step': 0, 'parents': {}}, created_at='2025-09-19T20:05:41.976003+00:00', parent_config={'configurable': {'thread_id': '1', 'checkpoint_ns': '', 'checkpoint_id': '1f095940-4faf-67a2-bfff-1aa5fcb79c62'}}, tasks=(PregelTask(id='2ef8ce85-493d-a5f8-be57-103e11d7982e', name='generate_joke', path=('__pregel_pull', 'generate_joke'), error=None, interrupts=(), state=None, result={'joke': 'Why did the pizza maker quit his job?\\n\\nBecause he was tired of getting dough-minated!'}),), interrupts=()),\n",
       " StateSnapshot(values={}, next=('__start__',), config={'configurable': {'thread_id': '1', 'checkpoint_ns': '', 'checkpoint_id': '1f095940-4faf-67a2-bfff-1aa5fcb79c62'}}, metadata={'source': 'input', 'step': -1, 'parents': {}}, created_at='2025-09-19T20:05:41.974006+00:00', parent_config=None, tasks=(PregelTask(id='c9bf521a-a124-9f0d-85d8-3cd3696227aa', name='__start__', path=('__pregel_pull', '__start__'), error=None, interrupts=(), state=None, result={'topic': 'pizza'}),), interrupts=())]"
      ]
     },
     "execution_count": 26,
     "metadata": {},
     "output_type": "execute_result"
    }
   ],
   "source": [
    "list(workflow.get_state_history(config1))"
   ]
  },
  {
   "cell_type": "code",
   "execution_count": null,
   "id": "c374f8e2",
   "metadata": {},
   "outputs": [],
   "source": []
  }
 ],
 "metadata": {
  "kernelspec": {
   "display_name": "langgraph-learning",
   "language": "python",
   "name": "python3"
  },
  "language_info": {
   "codemirror_mode": {
    "name": "ipython",
    "version": 3
   },
   "file_extension": ".py",
   "mimetype": "text/x-python",
   "name": "python",
   "nbconvert_exporter": "python",
   "pygments_lexer": "ipython3",
   "version": "3.12.10"
  }
 },
 "nbformat": 4,
 "nbformat_minor": 5
}
